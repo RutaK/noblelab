{
 "cells": [
  {
   "cell_type": "code",
   "execution_count": 13,
   "metadata": {},
   "outputs": [],
   "source": [
    "from openpyxl import load_workbook\n",
    "\n",
    "import numpy as np\n",
    "\n",
    "import csv\n",
    "from scipy import stats\n",
    "import pandas as pd\n",
    "import seaborn as sns\n",
    "import plotly.express as px\n",
    "\n",
    "import matplotlib.pyplot as plt\n",
    "import matplotlib\n",
    "\n"
   ]
  },
  {
   "cell_type": "code",
   "execution_count": 14,
   "metadata": {},
   "outputs": [],
   "source": [
    "def print_into_excel(dtp):\n",
    "\n",
    "\n",
    "        book = load_workbook(r\"C:\\Users\\eart0477\\Pycharm projects\\data_process\\csvfiles\\mini ruedi\\export.xlsx\")\n",
    "        writer = pd.ExcelWriter(r\"C:\\Users\\eart0477\\Pycharm projects\\data_process\\csvfiles\\mini ruedi\\export.xlsx\", engine='openpyxl')\n",
    "        writer.book = book\n",
    "        writer.sheets = {ws.title: ws for ws in book.worksheets}\n",
    "\n",
    "        for sheetname in writer.sheets:\n",
    "            dtp.to_excel(writer, sheet_name=sheetname, startrow=writer.sheets[sheetname].max_row, index=True,\n",
    "                         header=True)\n",
    "        writer.save()\n",
    "\n",
    "        return\n",
    "\n"
   ]
  },
  {
   "cell_type": "code",
   "execution_count": 15,
   "metadata": {},
   "outputs": [],
   "source": [
    "qt = pd.read_excel(r\"C:\\Users\\eart0477\\Pycharm projects\\data_process\\csvfiles\\From the lab\\Feb 2022 qtegra exports\\Ar Sample Manual June plus Sept 2021 combo.xlsx\" , header=0, index_col=0, sheet_name=0, mangle_dupe_cols=True)\n"
   ]
  },
  {
   "cell_type": "code",
   "execution_count": 16,
   "metadata": {},
   "outputs": [],
   "source": [
    "column_names = {'Extrapolation.ResultMean': '40Ar_h1', \n",
    "                'Extrapolation.ResultMean.2': '38Ar_l1',\n",
    "                'Extrapolation.ResultMean.4': '36Ar_cdd',\n",
    "                'Extrapolation.ResultMean.5': '36Ar_ax',\n",
    "                'Extrapolation.ResultMean.6': '40Ar_h2',\n",
    "                'Extrapolation.ResultMean.8': '38Ar_ax',\n",
    "                'Extrapolation.ResultMean.10': '36Ar_l2',\n",
    "                'Extrapolation.ResultMean.12': '38Ar_cdd',\n",
    "                \n",
    "                'Extrapolation.ResultStandardError': '40Ar_h1_err', \n",
    "                'Extrapolation.ResultStandardError.2': '38Ar_l1_err',\n",
    "                'Extrapolation.ResultStandardError.4': '36Ar_cdd_err',\n",
    "                'Extrapolation.ResultStandardError.5': '36Ar_ax_err',\n",
    "                'Extrapolation.ResultStandardError.6': '40Ar_h2_err',\n",
    "                'Extrapolation.ResultStandardError.8': '38Ar_ax_err',\n",
    "                'Extrapolation.ResultStandardError.10': '36Ar_l2_err',\n",
    "                'Extrapolation.ResultStandardError.12': '38Ar_cdd_err',\n",
    "          \n",
    "                     }\n",
    "\n"
   ]
  },
  {
   "cell_type": "code",
   "execution_count": 17,
   "metadata": {},
   "outputs": [],
   "source": [
    "qt2 = qt.rename(column_names, axis='columns')\n",
    "qt2 =qt2[qt2['StartTime'].notna()]"
   ]
  },
  {
   "cell_type": "code",
   "execution_count": 18,
   "metadata": {},
   "outputs": [],
   "source": [
    "columns_to_print = [ 'SampleList.1', 'StartTime', 'NGWorkflowOnArgusVIWithPrep',\n",
    "\n",
    "                     '40Ar_h1', \n",
    "                          '38Ar_l1',\n",
    "                           '36Ar_cdd',\n",
    "                              '36Ar_ax',\n",
    "                                 '40Ar_h2',\n",
    "                                   '38Ar_ax',\n",
    "                                      '36Ar_l2',\n",
    "                                       '38Ar_cdd',\n",
    "\n",
    "                        '40Ar_h1_err', \n",
    "                            '38Ar_l1_err',\n",
    "                                '36Ar_cdd_err',\n",
    "                                    '36Ar_ax_err',\n",
    "                                         '40Ar_h2_err',\n",
    "                                             '38Ar_ax_err',\n",
    "                                                  '36Ar_l2_err',\n",
    "                                                       '38Ar_cdd_err',\n",
    "\n",
    "                                       ]\n"
   ]
  },
  {
   "cell_type": "code",
   "execution_count": 19,
   "metadata": {},
   "outputs": [],
   "source": [
    "qt3 = qt2.loc[:, qt2.columns.isin(columns_to_print)]"
   ]
  },
  {
   "cell_type": "code",
   "execution_count": 20,
   "metadata": {},
   "outputs": [],
   "source": [
    "# do you want to sort the output by sample type (proc air, blank, sample?)\n",
    "sort_by = True\n"
   ]
  },
  {
   "cell_type": "code",
   "execution_count": null,
   "metadata": {},
   "outputs": [],
   "source": []
  },
  {
   "cell_type": "code",
   "execution_count": 21,
   "metadata": {},
   "outputs": [
    {
     "name": "stderr",
     "output_type": "stream",
     "text": [
      "C:\\Users\\eart0477\\anaconda3\\lib\\site-packages\\ipykernel_launcher.py:5: SettingWithCopyWarning: \n",
      "A value is trying to be set on a copy of a slice from a DataFrame.\n",
      "Try using .loc[row_indexer,col_indexer] = value instead\n",
      "\n",
      "See the caveats in the documentation: https://pandas.pydata.org/pandas-docs/stable/user_guide/indexing.html#returning-a-view-versus-a-copy\n",
      "  \"\"\"\n",
      "C:\\Users\\eart0477\\anaconda3\\lib\\site-packages\\ipykernel_launcher.py:7: SettingWithCopyWarning: \n",
      "A value is trying to be set on a copy of a slice from a DataFrame.\n",
      "Try using .loc[row_indexer,col_indexer] = value instead\n",
      "\n",
      "See the caveats in the documentation: https://pandas.pydata.org/pandas-docs/stable/user_guide/indexing.html#returning-a-view-versus-a-copy\n",
      "  import sys\n"
     ]
    }
   ],
   "source": [
    "\n",
    "row_start = 1\n",
    "row_end = 326\n",
    "\n",
    "f = qt3.iloc[row_start:row_end]\n",
    "f['Sample_copy'] = f.index\n",
    "\n",
    "f['Sample_type'] = np.nan\n",
    "#f['Vol'] = np.nan\n",
    "#f['Split'] = np.nan\n",
    "\n",
    "# specify keywords we will be looking for to classify data\n",
    "keywords_proc_air = ('proc air', 'Proc Air', 'Proc_air', 'Proc_Air', 'Proc air', 'proc Air', )\n",
    "keywords_blank = ('blank', 'Blank')\n",
    "keywords_asw = ('ASW', 'asw')\n",
    "\n",
    "#\n"
   ]
  },
  {
   "cell_type": "code",
   "execution_count": 22,
   "metadata": {},
   "outputs": [
    {
     "name": "stderr",
     "output_type": "stream",
     "text": [
      "C:\\Users\\eart0477\\anaconda3\\lib\\site-packages\\ipykernel_launcher.py:11: SettingWithCopyWarning: \n",
      "A value is trying to be set on a copy of a slice from a DataFrame\n",
      "\n",
      "See the caveats in the documentation: https://pandas.pydata.org/pandas-docs/stable/user_guide/indexing.html#returning-a-view-versus-a-copy\n",
      "  # This is added back by InteractiveShellApp.init_path()\n",
      "C:\\Users\\eart0477\\anaconda3\\lib\\site-packages\\ipykernel_launcher.py:7: SettingWithCopyWarning: \n",
      "A value is trying to be set on a copy of a slice from a DataFrame\n",
      "\n",
      "See the caveats in the documentation: https://pandas.pydata.org/pandas-docs/stable/user_guide/indexing.html#returning-a-view-versus-a-copy\n",
      "  import sys\n",
      "C:\\Users\\eart0477\\anaconda3\\lib\\site-packages\\ipykernel_launcher.py:15: SettingWithCopyWarning: \n",
      "A value is trying to be set on a copy of a slice from a DataFrame\n",
      "\n",
      "See the caveats in the documentation: https://pandas.pydata.org/pandas-docs/stable/user_guide/indexing.html#returning-a-view-versus-a-copy\n",
      "  from ipykernel import kernelapp as app\n",
      "C:\\Users\\eart0477\\anaconda3\\lib\\site-packages\\ipykernel_launcher.py:19: SettingWithCopyWarning: \n",
      "A value is trying to be set on a copy of a slice from a DataFrame\n",
      "\n",
      "See the caveats in the documentation: https://pandas.pydata.org/pandas-docs/stable/user_guide/indexing.html#returning-a-view-versus-a-copy\n"
     ]
    }
   ],
   "source": [
    "#this part filters the rows based on sample type (proc air, proc blank, sample, ASW) so they are exported together by type \n",
    "#for easier processing, can skip this cell if don't want to sort\n",
    "\n",
    "for index, row in f.iterrows():\n",
    "    if any(s in row['SampleList.1'] for s in keywords_proc_air) == True:\n",
    "      \n",
    "        f['Sample_type'].loc[index] = 'Proc_air'\n",
    "    #if any(s in row['SampleList.1'] for s in keywords_blank) == True:\n",
    "       # f['Sample_type'].loc[index] = 'Proc_blank'\n",
    "    else:\n",
    "        f['Sample_type'].loc[index] = 'Sample'\n",
    "        \n",
    "for index, row in f.iterrows():        \n",
    "    if any(s in row['SampleList.1'] for s in keywords_blank) == True:\n",
    "        f['Sample_type'].loc[index] = 'Proc_blank'\n",
    "\n",
    "for index, row in f.iterrows():        \n",
    "    if any(s in row['SampleList.1'] for s in keywords_asw) == True:\n",
    "        f['Sample_type'].loc[index] = 'ASW'        \n",
    "\n",
    "f = f.sort_values(by=['Sample_type', 'StartTime'], axis=0, )\n",
    "  \n"
   ]
  },
  {
   "cell_type": "code",
   "execution_count": 23,
   "metadata": {},
   "outputs": [],
   "source": [
    "print_into_excel(f)"
   ]
  },
  {
   "cell_type": "code",
   "execution_count": 30,
   "metadata": {},
   "outputs": [
    {
     "name": "stdout",
     "output_type": "stream",
     "text": [
      "SampleList\n",
      "27        ASW\n",
      "63        ASW\n",
      "64        ASW\n",
      "167       ASW\n",
      "168       ASW\n",
      "        ...  \n",
      "147    Sample\n",
      "165    Sample\n",
      "88     Sample\n",
      "44     Sample\n",
      "96     Sample\n",
      "Name: Sample_type, Length: 189, dtype: object\n"
     ]
    }
   ],
   "source": []
  },
  {
   "cell_type": "code",
   "execution_count": null,
   "metadata": {},
   "outputs": [],
   "source": []
  }
 ],
 "metadata": {
  "kernelspec": {
   "display_name": "Python 3",
   "language": "python",
   "name": "python3"
  },
  "language_info": {
   "codemirror_mode": {
    "name": "ipython",
    "version": 3
   },
   "file_extension": ".py",
   "mimetype": "text/x-python",
   "name": "python",
   "nbconvert_exporter": "python",
   "pygments_lexer": "ipython3",
   "version": "3.7.7"
  }
 },
 "nbformat": 4,
 "nbformat_minor": 4
}
