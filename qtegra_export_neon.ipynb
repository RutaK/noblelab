{
 "cells": [
  {
   "cell_type": "code",
   "execution_count": 65,
   "metadata": {},
   "outputs": [],
   "source": [
    "from openpyxl import load_workbook\n",
    "\n",
    "import numpy as np\n",
    "\n",
    "import csv\n",
    "from scipy import stats\n",
    "import pandas as pd\n",
    "import seaborn as sns\n",
    "import plotly.express as px\n",
    "\n",
    "import matplotlib.pyplot as plt\n",
    "import matplotlib\n",
    "\n"
   ]
  },
  {
   "cell_type": "code",
   "execution_count": 66,
   "metadata": {},
   "outputs": [],
   "source": [
    "def print_into_excel(dtp):\n",
    "\n",
    "\n",
    "        book = load_workbook(r\"C:\\Users\\eart0477\\Pycharm projects\\data_process\\csvfiles\\mini ruedi\\export.xlsx\")\n",
    "        writer = pd.ExcelWriter(r\"C:\\Users\\eart0477\\Pycharm projects\\data_process\\csvfiles\\mini ruedi\\export.xlsx\", engine='openpyxl')\n",
    "        writer.book = book\n",
    "        writer.sheets = {ws.title: ws for ws in book.worksheets}\n",
    "\n",
    "        for sheetname in writer.sheets:\n",
    "            dtp.to_excel(writer, sheet_name=sheetname, startrow=writer.sheets[sheetname].max_row, index=True,\n",
    "                         header=True)\n",
    "        writer.save()\n",
    "\n",
    "        return\n",
    "\n"
   ]
  },
  {
   "cell_type": "code",
   "execution_count": 67,
   "metadata": {},
   "outputs": [],
   "source": [
    "qt = pd.read_excel(r\"C:\\Users\\eart0477\\Pycharm projects\\data_process\\csvfiles\\From the lab\\Feb 2022 qtegra exports\\Ne sample Sept plus Mar 2021 combo.xlsx\" , header=0, index_col=0, sheet_name=0, mangle_dupe_cols=True)\n"
   ]
  },
  {
   "cell_type": "code",
   "execution_count": 68,
   "metadata": {},
   "outputs": [],
   "source": [
    "\n"
   ]
  },
  {
   "cell_type": "code",
   "execution_count": 69,
   "metadata": {},
   "outputs": [],
   "source": [
    "column_names = {'Extrapolation.ResultMean': '20Ne_ax', \n",
    "                'Extrapolation.ResultMean.1': '20Ne_h2',\n",
    "                'Extrapolation.ResultMean.3': '22Ne',\n",
    "                'Extrapolation.ResultMean.5': '21Ne_cdd',\n",
    "                'Extrapolation.ResultMean.6': '21Ne_ax',\n",
    "                'Extrapolation.ResultMean.7': '40Ar',\n",
    "                'Extrapolation.ResultMean.8': '38Ar',\n",
    "                'Extrapolation.ResultMean.9': '36Ar',\n",
    "                'Extrapolation.ResultMean.10': '44CO2',\n",
    "                \n",
    "                'Extrapolation.ResultStandardError': '20Ne_ax_err', \n",
    "                'Extrapolation.ResultStandardError.1': '20Ne_h2_err',\n",
    "                'Extrapolation.ResultStandardError.3': '22Ne_err',\n",
    "                'Extrapolation.ResultStandardError.5': '21Ne_cdd_err',\n",
    "                'Extrapolation.ResultStandardError.6': '21Ne_ax_err',\n",
    "                'Extrapolation.ResultStandardError.7': '40Ar_err',\n",
    "                'Extrapolation.ResultStandardError.8': '38Ar_err',\n",
    "                'Extrapolation.ResultStandardError.9': '36Ar_err',\n",
    "                'Extrapolation.ResultStandardError.10': '44CO2_err',\n",
    "                     }\n",
    "\n"
   ]
  },
  {
   "cell_type": "code",
   "execution_count": 70,
   "metadata": {},
   "outputs": [],
   "source": [
    "qt2 = qt.rename(column_names, axis='columns')\n",
    "qt2 =qt2[qt2['StartTime'].notna()]"
   ]
  },
  {
   "cell_type": "code",
   "execution_count": 71,
   "metadata": {},
   "outputs": [],
   "source": [
    "columns_to_print = [ 'SampleList.1', 'StartTime', 'NGWorkflowOnArgusVIWithPrep',\n",
    "    \n",
    "                    '20Ne_ax', \n",
    "                    '20Ne_h2',\n",
    "                   '22Ne',\n",
    "                  '21Ne_cdd',\n",
    "                '21Ne_ax',\n",
    "                 '40Ar',\n",
    "               '38Ar',\n",
    "              '36Ar',\n",
    "               '44CO2',\n",
    "                    '20Ne_ax_err', \n",
    "                    '20Ne_h2_err',\n",
    "                   '22Ne_err',\n",
    "                  '21Ne_cdd_err',\n",
    "                '21Ne_ax_err',\n",
    "                 '40Ar_err',\n",
    "               '38Ar_err',\n",
    "              '36Ar_err',\n",
    "               '44CO2_err'\n",
    "                   \n",
    "                   \n",
    "                   \n",
    "    ]"
   ]
  },
  {
   "cell_type": "code",
   "execution_count": 72,
   "metadata": {},
   "outputs": [],
   "source": [
    "qt3 = qt2.loc[:, qt2.columns.isin(columns_to_print)]"
   ]
  },
  {
   "cell_type": "code",
   "execution_count": 73,
   "metadata": {},
   "outputs": [],
   "source": [
    "# do you want to sort the output by sample type (proc air, blank, sample?)\n",
    "sort_by = True\n"
   ]
  },
  {
   "cell_type": "code",
   "execution_count": null,
   "metadata": {},
   "outputs": [],
   "source": []
  },
  {
   "cell_type": "code",
   "execution_count": 74,
   "metadata": {},
   "outputs": [
    {
     "name": "stderr",
     "output_type": "stream",
     "text": [
      "C:\\Users\\eart0477\\anaconda3\\lib\\site-packages\\ipykernel_launcher.py:7: SettingWithCopyWarning: \n",
      "A value is trying to be set on a copy of a slice from a DataFrame.\n",
      "Try using .loc[row_indexer,col_indexer] = value instead\n",
      "\n",
      "See the caveats in the documentation: https://pandas.pydata.org/pandas-docs/stable/user_guide/indexing.html#returning-a-view-versus-a-copy\n",
      "  import sys\n"
     ]
    }
   ],
   "source": [
    "\n",
    "row_start = 1\n",
    "row_end = 326\n",
    "\n",
    "f = qt3.iloc[row_start:row_end]\n",
    "#f['Sample_copy'] = f.index\n",
    "\n",
    "f['Sample_type'] = np.nan\n",
    "#f['Vol'] = np.nan\n",
    "#f['Split'] = np.nan\n",
    "\n",
    "# specify keywords we will be looking for to classify data\n",
    "keywords_proc_air = ('proc air', 'Proc Air', 'Proc_air', 'Proc_Air', 'Proc air', 'proc Air', )\n",
    "keywords_blank = ('blank', 'Blank')\n",
    "\n",
    "#\n"
   ]
  },
  {
   "cell_type": "code",
   "execution_count": 90,
   "metadata": {},
   "outputs": [],
   "source": [
    "#filter data to include proc airs and drop proc banks\n",
    "#f = f.dropna(axis = 0, subset=['Sample_copy'])\n",
    "for index, row in f.iterrows():\n",
    "    if any(s in row['SampleList.1'] for s in keywords_proc_air) == True:\n",
    "        f['Sample_type'].loc[index] = 'Proc_air'\n",
    "    #if any(s in row['SampleList.1'] for s in keywords_blank) == True:\n",
    "       # f['Sample_type'].loc[index] = 'Proc_blank'\n",
    "    else:\n",
    "        f['Sample_type'].loc[index] = 'Sample'\n",
    "        \n",
    "for index, row in f.iterrows():        \n",
    "    if any(s in row['SampleList.1'] for s in keywords_blank) == True:\n",
    "        f['Sample_type'].loc[index] = 'Proc_blank'\n",
    "\n",
    "        \n",
    "\n",
    "f = f.sort_values(by=['Sample_type', 'StartTime'], axis=0, )\n",
    "  \n"
   ]
  },
  {
   "cell_type": "code",
   "execution_count": 91,
   "metadata": {},
   "outputs": [],
   "source": [
    "print_into_excel(f)"
   ]
  },
  {
   "cell_type": "code",
   "execution_count": null,
   "metadata": {},
   "outputs": [],
   "source": []
  }
 ],
 "metadata": {
  "kernelspec": {
   "display_name": "Python 3",
   "language": "python",
   "name": "python3"
  },
  "language_info": {
   "codemirror_mode": {
    "name": "ipython",
    "version": 3
   },
   "file_extension": ".py",
   "mimetype": "text/x-python",
   "name": "python",
   "nbconvert_exporter": "python",
   "pygments_lexer": "ipython3",
   "version": "3.7.7"
  }
 },
 "nbformat": 4,
 "nbformat_minor": 4
}
