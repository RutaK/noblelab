{
 "cells": [
  {
   "cell_type": "code",
   "execution_count": 1,
   "metadata": {},
   "outputs": [],
   "source": [
    "#scrape proc airs and proc blanks separately\n",
    "\n",
    "from openpyxl import load_workbook\n",
    "\n",
    "\n",
    "import numpy as np\n",
    "\n",
    "import csv\n",
    "from scipy import stats\n",
    "import pandas as pd\n",
    "import seaborn as sns\n",
    "\n",
    "\n",
    "import matplotlib.pyplot as plt\n",
    "import matplotlib\n",
    "\n"
   ]
  },
  {
   "cell_type": "code",
   "execution_count": 3,
   "metadata": {},
   "outputs": [],
   "source": [
    "\n",
    "qf = pd.read_excel(r\"C:\\Users\\eart0477\\Pycharm projects\\data_process\\csvfiles\\From the lab\\december 2021\\QUAD_DATA_PROCESS_dec_2021.xlsx\", header=0, index_col=0, sheet_name='All Data')\n"
   ]
  },
  {
   "cell_type": "code",
   "execution_count": 4,
   "metadata": {},
   "outputs": [
    {
     "name": "stderr",
     "output_type": "stream",
     "text": [
      "C:\\Users\\eart0477\\anaconda3\\lib\\site-packages\\ipykernel_launcher.py:7: SettingWithCopyWarning: \n",
      "A value is trying to be set on a copy of a slice from a DataFrame.\n",
      "Try using .loc[row_indexer,col_indexer] = value instead\n",
      "\n",
      "See the caveats in the documentation: https://pandas.pydata.org/pandas-docs/stable/user_guide/indexing.html#returning-a-view-versus-a-copy\n",
      "  import sys\n",
      "C:\\Users\\eart0477\\anaconda3\\lib\\site-packages\\ipykernel_launcher.py:9: SettingWithCopyWarning: \n",
      "A value is trying to be set on a copy of a slice from a DataFrame.\n",
      "Try using .loc[row_indexer,col_indexer] = value instead\n",
      "\n",
      "See the caveats in the documentation: https://pandas.pydata.org/pandas-docs/stable/user_guide/indexing.html#returning-a-view-versus-a-copy\n",
      "  if __name__ == '__main__':\n",
      "C:\\Users\\eart0477\\anaconda3\\lib\\site-packages\\ipykernel_launcher.py:10: SettingWithCopyWarning: \n",
      "A value is trying to be set on a copy of a slice from a DataFrame.\n",
      "Try using .loc[row_indexer,col_indexer] = value instead\n",
      "\n",
      "See the caveats in the documentation: https://pandas.pydata.org/pandas-docs/stable/user_guide/indexing.html#returning-a-view-versus-a-copy\n",
      "  # Remove the CWD from sys.path while we load stuff.\n",
      "C:\\Users\\eart0477\\anaconda3\\lib\\site-packages\\ipykernel_launcher.py:11: SettingWithCopyWarning: \n",
      "A value is trying to be set on a copy of a slice from a DataFrame.\n",
      "Try using .loc[row_indexer,col_indexer] = value instead\n",
      "\n",
      "See the caveats in the documentation: https://pandas.pydata.org/pandas-docs/stable/user_guide/indexing.html#returning-a-view-versus-a-copy\n",
      "  # This is added back by InteractiveShellApp.init_path()\n"
     ]
    }
   ],
   "source": [
    "# Selecting which proc airs we want from Quad data process sheet\n",
    "# row number from which to start and end (end number currently to include ALL)\n",
    "row_start = 184\n",
    "row_end = 5000\n",
    "\n",
    "f = qf.iloc[row_start:row_end]\n",
    "f['Sample_copy'] = f.index\n",
    "\n",
    "f['Proc_air'] = np.nan\n",
    "f['Vol'] = np.nan\n",
    "f['Split'] = np.nan\n",
    "\n",
    "# specify keywords we will be looking for to classify data\n",
    "keywords_proc_air = ('proc', 'Proc', 'Proc_air', 'Proc_Air')\n",
    "keywords_blank = ('blank', 'Blank')\n",
    "keywords_vol_all_line = ('All line', 'All Line', 'all line')\n",
    "keywords_vol_0406 = ('04-06', 'O4-O6', '0406', '0604', '06-04', 'O6-O4', 'Cal + pip', 'Cal+pip', 'Cal+Pip' )\n",
    "keywords_vol_0506 = ('05-06', 'O5-O6', '0506', '0605', '06-05', 'O6-O5', 'Cal vol', 'Cal Vol', 'cal vol', 'Cal:')#drop pips\n",
    "keywords_vol_pip = ('pip', 'Pip', 'PIP', '04-05', 'O4-O5', '0405', '0504', '05-04', 'O5-O4') #drop cals\n",
    "keywords_vol_0206 = ('02-06', 'O2-O6' , '0206' , '0602', '06-02', 'O6-O2')\n",
    "#\n",
    "\n",
    "\n"
   ]
  },
  {
   "cell_type": "code",
   "execution_count": 5,
   "metadata": {},
   "outputs": [
    {
     "name": "stderr",
     "output_type": "stream",
     "text": [
      "C:\\Users\\eart0477\\anaconda3\\lib\\site-packages\\pandas\\core\\indexing.py:671: SettingWithCopyWarning: \n",
      "A value is trying to be set on a copy of a slice from a DataFrame\n",
      "\n",
      "See the caveats in the documentation: https://pandas.pydata.org/pandas-docs/stable/user_guide/indexing.html#returning-a-view-versus-a-copy\n",
      "  self._setitem_with_indexer(indexer, value)\n"
     ]
    }
   ],
   "source": [
    "#filter data to include proc airs and drop proc banks\n",
    "f = f.dropna(axis = 0, subset=['Sample_copy'])\n",
    "for index, row in f.iterrows():\n",
    "    if any(s in row.Sample_copy for s in keywords_proc_air) == True:\n",
    "        f['Proc_air'].loc[index] = 'Proc_air'\n",
    "    if any(s in row.Sample_copy for s in keywords_blank) == True:\n",
    "        f['Proc_air'].loc[index] = np.nan\n",
    "f = f.dropna(axis = 0, subset=['Proc_air'])\n",
    "\n",
    "  \n"
   ]
  },
  {
   "cell_type": "code",
   "execution_count": 6,
   "metadata": {},
   "outputs": [],
   "source": [
    "        \n",
    "#filter data to create columns for volumes\n",
    "f = f.dropna(axis = 0, subset=['Protocols run']) \n",
    "for index, row in f.iterrows():\n",
    "  \n",
    "    if any(s in (row['Protocols run']) for s in keywords_vol_0406) == True:  \n",
    "        if any(s in (row['Protocols run']) for s in keywords_vol_pip) == False: \n",
    "            f['Vol'].loc[index] = '0406'\n",
    "    if any(s in (row['Protocols run']) for s in keywords_vol_pip) == True: \n",
    "        if any(s in (row['Protocols run']) for s in keywords_vol_0406) == False: \n",
    "        \n",
    "            f['Vol'].loc[index] = 'pip'\n",
    "        \n",
    "    if any(s in (row['Protocols run']) for s in keywords_vol_0206) == True:\n",
    "        f['Vol'].loc[index] = '0206'\n",
    "    if any(s in (row['Protocols run']) for s in keywords_vol_0506) == True:\n",
    "        f['Vol'].loc[index] = '0506'\n",
    "\n",
    "    \n",
    "        \n",
    "        "
   ]
  },
  {
   "cell_type": "code",
   "execution_count": 23,
   "metadata": {},
   "outputs": [
    {
     "name": "stdout",
     "output_type": "stream",
     "text": [
      "                         Phase                 Date  \\\n",
      "Sample                                                \n",
      "Proc Air 62                NaN  2016-01-11 00:00:00   \n",
      "Proc Air 63                NaN  2016-01-15 00:00:00   \n",
      "Proc Air 80                NaN  2016-04-04 00:00:00   \n",
      "Proc Air 83                NaN  2016-07-19 00:00:00   \n",
      "Proc Air 092               NaN  2016-10-25 00:00:00   \n",
      "...                        ...                  ...   \n",
      "Proc Air 318 Sample 2060   NaN           11/29/2021   \n",
      "Proc Air 319 Sample 2066     g  2021-12-04 00:00:00   \n",
      "Proc Air 321 Sample 2081   NaN  2021-12-08 00:00:00   \n",
      "Proc Air 322 Sample 2099   NaN  2021-12-15 00:00:00   \n",
      "Proc Air 323 Sample 2103   NaN  2021-12-16 00:00:00   \n",
      "\n",
      "                                                              Protocols run  \\\n",
      "Sample                                                                        \n",
      "Proc Air 62                                                     He manifold   \n",
      "Proc Air 63                                                     He manifold   \n",
      "Proc Air 80                                                     Helium only   \n",
      "Proc Air 83                                       Pipette volume run, no He   \n",
      "Proc Air 092              Pipette Volume, He Manifold, Ne all gas, Ar pi...   \n",
      "...                                                                     ...   \n",
      "Proc Air 318 Sample 2060      O4-O6, He mani, Ne 1Aux2, Ar 1 pip, KrXe mani   \n",
      "Proc Air 319 Sample 2066                               Ar pip, KrXe all gas   \n",
      "Proc Air 321 Sample 2081  01-pip, He mani, Ne all gas, Ar 2AUX2, KrXe al...   \n",
      "Proc Air 322 Sample 2099  01-pip, He mani, Ne all gas, Ar 2AUX2, KrXe al...   \n",
      "Proc Air 323 Sample 2103                                     04-O6, He mani   \n",
      "\n",
      "                         Notes Baratron BARATRON     error 4He (fA) 20Ne (fA)  \\\n",
      "Sample                                                                          \n",
      "Proc Air 62                NaN     22.7     22.7       NaN      NaN       NaN   \n",
      "Proc Air 63                NaN     11.8     11.8       NaN      NaN       NaN   \n",
      "Proc Air 80                NaN      NaN      NaN       NaN      NaN       NaN   \n",
      "Proc Air 83                NaN     33.9     33.9       NaN      NaN      6724   \n",
      "Proc Air 092               NaN     33.3     33.3       NaN     35.7      6698   \n",
      "...                        ...      ...      ...       ...      ...       ...   \n",
      "Proc Air 318 Sample 2060   NaN      NaN      143  0.282843      NaN       NaN   \n",
      "Proc Air 319 Sample 2066   NaN      NaN      NaN       NaN      NaN       NaN   \n",
      "Proc Air 321 Sample 2081   NaN      NaN    21.35  0.180278     4810       NaN   \n",
      "Proc Air 322 Sample 2099   NaN      NaN      NaN       NaN      NaN       NaN   \n",
      "Proc Air 323 Sample 2103   NaN      NaN     35.5  0.141421      NaN       NaN   \n",
      "\n",
      "                         40Ar (fA) H1  ... Unnamed: 65 Unnamed: 66  \\\n",
      "Sample                                 ...                           \n",
      "Proc Air 62                       NaN  ...         NaN         NaN   \n",
      "Proc Air 63                       NaN  ...         NaN         NaN   \n",
      "Proc Air 80                       NaN  ...         NaN         NaN   \n",
      "Proc Air 83                      1404  ...         NaN         NaN   \n",
      "Proc Air 092                     1233  ...         NaN         NaN   \n",
      "...                               ...  ...         ...         ...   \n",
      "Proc Air 318 Sample 2060          NaN  ...         NaN         NaN   \n",
      "Proc Air 319 Sample 2066          NaN  ...         NaN         NaN   \n",
      "Proc Air 321 Sample 2081          NaN  ...         NaN         NaN   \n",
      "Proc Air 322 Sample 2099          NaN  ...         NaN         NaN   \n",
      "Proc Air 323 Sample 2103          NaN  ...         NaN         NaN   \n",
      "\n",
      "                         Unnamed: 67 Unnamed: 68 Unnamed: 69  Unnamed: 70  \\\n",
      "Sample                                                                      \n",
      "Proc Air 62                      NaN         NaN         NaN          NaN   \n",
      "Proc Air 63                      NaN         NaN         NaN          NaN   \n",
      "Proc Air 80                      NaN         NaN         NaN          NaN   \n",
      "Proc Air 83                      NaN         NaN         NaN          NaN   \n",
      "Proc Air 092                     NaN         NaN         NaN          NaN   \n",
      "...                              ...         ...         ...          ...   \n",
      "Proc Air 318 Sample 2060         NaN         NaN         NaN          NaN   \n",
      "Proc Air 319 Sample 2066         NaN         NaN         NaN          NaN   \n",
      "Proc Air 321 Sample 2081         NaN         NaN         NaN          NaN   \n",
      "Proc Air 322 Sample 2099         NaN         NaN         NaN          NaN   \n",
      "Proc Air 323 Sample 2103         NaN         NaN         NaN          NaN   \n",
      "\n",
      "                                       Sample_copy  Proc_air   Vol Split  \n",
      "Sample                                                                    \n",
      "Proc Air 62                            Proc Air 62  Proc_air   NaN   NaN  \n",
      "Proc Air 63                            Proc Air 63  Proc_air   NaN   NaN  \n",
      "Proc Air 80                            Proc Air 80  Proc_air  0506   NaN  \n",
      "Proc Air 83                            Proc Air 83  Proc_air  0506   NaN  \n",
      "Proc Air 092                          Proc Air 092  Proc_air   pip   NaN  \n",
      "...                                            ...       ...   ...   ...  \n",
      "Proc Air 318 Sample 2060  Proc Air 318 Sample 2060  Proc_air   NaN   NaN  \n",
      "Proc Air 319 Sample 2066  Proc Air 319 Sample 2066  Proc_air   pip   NaN  \n",
      "Proc Air 321 Sample 2081  Proc Air 321 Sample 2081  Proc_air   pip   NaN  \n",
      "Proc Air 322 Sample 2099  Proc Air 322 Sample 2099  Proc_air   pip   NaN  \n",
      "Proc Air 323 Sample 2103  Proc Air 323 Sample 2103  Proc_air   NaN   NaN  \n",
      "\n",
      "[279 rows x 74 columns]\n"
     ]
    }
   ],
   "source": [
    "print(f)"
   ]
  },
  {
   "cell_type": "code",
   "execution_count": 24,
   "metadata": {},
   "outputs": [],
   "source": [
    "\n",
    "from openpyxl import load_workbook\n"
   ]
  },
  {
   "cell_type": "code",
   "execution_count": 14,
   "metadata": {},
   "outputs": [],
   "source": [
    "def print_into_excel(dtp):\n",
    "\n",
    "\n",
    "        book = load_workbook(r\"C:\\Users\\eart0477\\Pycharm projects\\data_process\\csvfiles\\From the lab\\December 2020 ophiolites\\proc_ais_he1.xlsx\")\n",
    "        writer = pd.ExcelWriter(r\"C:\\Users\\eart0477\\Pycharm projects\\data_process\\csvfiles\\From the lab\\December 2020 ophiolites\\proc_ais_he1.xlsx\", engine='openpyxl')\n",
    "        writer.book = book\n",
    "        writer.sheets = {ws.title: ws for ws in book.worksheets}\n",
    "\n",
    "        for sheetname in writer.sheets:\n",
    "            dtp.to_excel(writer, sheet_name=sheetname, startrow=writer.sheets[sheetname].max_row, index=True,\n",
    "                         header=True)\n",
    "        writer.save()\n",
    "\n",
    "        return\n",
    "\n",
    "    \n",
    "    "
   ]
  },
  {
   "cell_type": "code",
   "execution_count": 57,
   "metadata": {},
   "outputs": [],
   "source": [
    "print_into_excel(f)\n"
   ]
  },
  {
   "cell_type": "code",
   "execution_count": 68,
   "metadata": {},
   "outputs": [],
   "source": [
    "#copy neon\n",
    "df = pd.read_excel(r\"C:\\Users\\eart0477\\Pycharm projects\\data_process\\csvfiles\\From the lab\\december 2021\\All_Data_Dec_2021.xlsx\", header=0, index_col=0, sheet_name='Xe data')\n"
   ]
  },
  {
   "cell_type": "code",
   "execution_count": 28,
   "metadata": {},
   "outputs": [
    {
     "name": "stderr",
     "output_type": "stream",
     "text": [
      "C:\\Users\\eart0477\\anaconda3\\lib\\site-packages\\ipykernel_launcher.py:7: SettingWithCopyWarning: \n",
      "A value is trying to be set on a copy of a slice from a DataFrame.\n",
      "Try using .loc[row_indexer,col_indexer] = value instead\n",
      "\n",
      "See the caveats in the documentation: https://pandas.pydata.org/pandas-docs/stable/user_guide/indexing.html#returning-a-view-versus-a-copy\n",
      "  import sys\n",
      "C:\\Users\\eart0477\\anaconda3\\lib\\site-packages\\ipykernel_launcher.py:9: SettingWithCopyWarning: \n",
      "A value is trying to be set on a copy of a slice from a DataFrame.\n",
      "Try using .loc[row_indexer,col_indexer] = value instead\n",
      "\n",
      "See the caveats in the documentation: https://pandas.pydata.org/pandas-docs/stable/user_guide/indexing.html#returning-a-view-versus-a-copy\n",
      "  if __name__ == '__main__':\n"
     ]
    }
   ],
   "source": [
    "# Selecting which proc airs we want from Quad data process sheet\n",
    "# row number from which to start and end (end number currently to include ALL)\n",
    "row_start = 184\n",
    "row_end = 5000\n",
    "\n",
    "z = df.iloc[row_start:row_end]\n",
    "z['Sample_copy'] = z.index\n",
    "\n",
    "z['Proc_air'] = np.nan\n",
    "\n",
    "#filter data to include proc airs and drop proc banks\n",
    "z = z.dropna(axis = 0, subset=['Sample_copy'])\n",
    "for index, row in z.iterrows():\n",
    "    if any(s in row.Sample_copy for s in keywords_proc_air) == True:\n",
    "        z['Proc_air'].loc[index] = 'Proc_air'\n",
    "    if any(s in row.Sample_copy for s in keywords_blank) == True:\n",
    "        z['Proc_air'].loc[index] = np.nan\n",
    "z = z.dropna(axis = 0, subset=['Proc_air'])\n",
    "print_into_excel(z)"
   ]
  },
  {
   "cell_type": "code",
   "execution_count": 41,
   "metadata": {},
   "outputs": [
    {
     "name": "stderr",
     "output_type": "stream",
     "text": [
      "C:\\Users\\eart0477\\anaconda3\\lib\\site-packages\\ipykernel_launcher.py:10: SettingWithCopyWarning: \n",
      "A value is trying to be set on a copy of a slice from a DataFrame.\n",
      "Try using .loc[row_indexer,col_indexer] = value instead\n",
      "\n",
      "See the caveats in the documentation: https://pandas.pydata.org/pandas-docs/stable/user_guide/indexing.html#returning-a-view-versus-a-copy\n",
      "  # Remove the CWD from sys.path while we load stuff.\n",
      "C:\\Users\\eart0477\\anaconda3\\lib\\site-packages\\ipykernel_launcher.py:12: SettingWithCopyWarning: \n",
      "A value is trying to be set on a copy of a slice from a DataFrame.\n",
      "Try using .loc[row_indexer,col_indexer] = value instead\n",
      "\n",
      "See the caveats in the documentation: https://pandas.pydata.org/pandas-docs/stable/user_guide/indexing.html#returning-a-view-versus-a-copy\n",
      "  if sys.path[0] == '':\n"
     ]
    }
   ],
   "source": [
    "#same for argo\n",
    "# Selecting which proc airs we want from Quad data process sheet\n",
    "# row number from which to start and end (end number currently to include ALL)\n",
    "\n",
    "df = pd.read_excel(r\"C:\\Users\\eart0477\\Pycharm projects\\data_process\\csvfiles\\From the lab\\december 2021\\All_Data_Dec_2021.xlsx\", header=0, index_col=0, sheet_name='Ar data')\n",
    "row_start = 3\n",
    "row_end = 5000\n",
    "\n",
    "z = df.iloc[row_start:row_end]\n",
    "z['Sample_copy'] = z.index\n",
    "\n",
    "z['Proc_air'] = np.nan\n",
    "\n",
    "#filter data to include proc airs and drop proc banks\n",
    "z = z.dropna(axis = 0, subset=['Sample_copy'])\n",
    "for index, row in z.iterrows():\n",
    "    if any(s in row.Sample_copy for s in keywords_proc_air) == True:\n",
    "        z['Proc_air'].loc[index] = 'Proc_air'\n",
    "    if any(s in row.Sample_copy for s in keywords_blank) == True:\n",
    "        z['Proc_air'].loc[index] = np.nan\n",
    "z = z.dropna(axis = 0, subset=['Proc_air'])\n",
    "print_into_excel(z)\n"
   ]
  },
  {
   "cell_type": "code",
   "execution_count": 15,
   "metadata": {},
   "outputs": [
    {
     "name": "stderr",
     "output_type": "stream",
     "text": [
      "C:\\Users\\eart0477\\anaconda3\\lib\\site-packages\\ipykernel_launcher.py:10: SettingWithCopyWarning: \n",
      "A value is trying to be set on a copy of a slice from a DataFrame.\n",
      "Try using .loc[row_indexer,col_indexer] = value instead\n",
      "\n",
      "See the caveats in the documentation: https://pandas.pydata.org/pandas-docs/stable/user_guide/indexing.html#returning-a-view-versus-a-copy\n",
      "  # Remove the CWD from sys.path while we load stuff.\n",
      "C:\\Users\\eart0477\\anaconda3\\lib\\site-packages\\ipykernel_launcher.py:12: SettingWithCopyWarning: \n",
      "A value is trying to be set on a copy of a slice from a DataFrame.\n",
      "Try using .loc[row_indexer,col_indexer] = value instead\n",
      "\n",
      "See the caveats in the documentation: https://pandas.pydata.org/pandas-docs/stable/user_guide/indexing.html#returning-a-view-versus-a-copy\n",
      "  if sys.path[0] == '':\n"
     ]
    }
   ],
   "source": [
    "#same for argo\n",
    "# Selecting which proc airs we want from Quad data process sheet\n",
    "# row number from which to start and end (end number currently to include ALL)\n",
    "\n",
    "df = pd.read_excel(r\"C:\\Users\\eart0477\\Pycharm projects\\data_process\\csvfiles\\From the lab\\december 2021\\he ovns\\He data June 2018.xlsx\", header=0, index_col=0, sheet_name='Sample')\n",
    "row_start = 1907\n",
    "row_end = 3500\n",
    "\n",
    "z = df.iloc[row_start:row_end]\n",
    "z['Sample_copy'] = z.index\n",
    "\n",
    "z['Proc_air'] = np.nan\n",
    "\n",
    "#filter data to include proc airs and drop proc banks\n",
    "z = z.dropna(axis = 0, subset=['Sample_copy'])\n",
    "for index, row in z.iterrows():\n",
    "    if any(s in row.Sample_copy for s in keywords_proc_air) == True:\n",
    "        z['Proc_air'].loc[index] = 'Proc_air'\n",
    "    if any(s in row.Sample_copy for s in keywords_blank) == True:\n",
    "        z['Proc_air'].loc[index] = np.nan\n",
    "z = z.dropna(axis = 0, subset=['Proc_air'])\n",
    "print_into_excel(z)\n"
   ]
  },
  {
   "cell_type": "code",
   "execution_count": 18,
   "metadata": {},
   "outputs": [],
   "source": [
    "#now combine all selected proc airs into one sheet\n",
    "\n",
    "\n",
    "quadf = pd.read_excel(r\"C:\\Users\\eart0477\\Pycharm projects\\data_process\\csvfiles\\From the lab\\December 2020 ophiolites\\proc_airs_quad.xlsx\", header=0, index_col=0, sheet_name=0)\n",
    "hedf = pd.read_excel(r\"C:\\Users\\eart0477\\Pycharm projects\\data_process\\csvfiles\\From the lab\\December 2020 ophiolites\\proc_ais_he1.xlsx\", header=0, index_col=0, sheet_name=0)\n",
    "nedf = pd.read_excel(r\"C:\\Users\\eart0477\\Pycharm projects\\data_process\\csvfiles\\From the lab\\December 2020 ophiolites\\proc_airs_ne.xlsx\", header=0, index_col=0, sheet_name=0)\n",
    "ardf = pd.read_excel(r\"C:\\Users\\eart0477\\Pycharm projects\\data_process\\csvfiles\\From the lab\\December 2020 ophiolites\\proc_airs_ar.xlsx\", header=0, index_col=0, sheet_name=0)\n"
   ]
  },
  {
   "cell_type": "code",
   "execution_count": 34,
   "metadata": {},
   "outputs": [
    {
     "name": "stdout",
     "output_type": "stream",
     "text": [
      "                                                                  Date  \\\n",
      "Run #                                                                    \n",
      "cold blank 1                                       2019-01-08 11:22:36   \n",
      "hot blank 1                                        2019-01-08 14:07:33   \n",
      "FU 2625 3D 1                                       2019-01-08 16:38:34   \n",
      "FU 090-3                                           2019-01-09 12:42:14   \n",
      "FU 2625 3D 2                                       2019-01-09 15:57:33   \n",
      "...                                                                ...   \n",
      "Cleaned Pt capsule blank (+127min) Sample 2088     2021-12-10 14:39:26   \n",
      "Cleaned Pt capsule blank (heated) Sample 2089      2021-12-10 17:18:58   \n",
      "lasered Pt capsule blank (30min) Sample 2101 mani  2021-12-16 13:25:48   \n",
      "lasered Pt capsule blank (93min) Sample 2102 mani  2021-12-16 15:02:54   \n",
      "                                                                   NaN   \n",
      "\n",
      "                                                                    notes  \\\n",
      "Run #                                                                       \n",
      "cold blank 1                                                          NaN   \n",
      "hot blank 1                                                           NaN   \n",
      "FU 2625 3D 1                                                          NaN   \n",
      "FU 090-3                                                              NaN   \n",
      "FU 2625 3D 2                                                          NaN   \n",
      "...                                                                   ...   \n",
      "Cleaned Pt capsule blank (+127min) Sample 2088     allgas split (P5 open)   \n",
      "Cleaned Pt capsule blank (heated) Sample 2089              manifold split   \n",
      "lasered Pt capsule blank (30min) Sample 2101 mani                 UNKNOWN   \n",
      "lasered Pt capsule blank (93min) Sample 2102 mani                 UNKNOWN   \n",
      "                                                                      NaN   \n",
      "\n",
      "                                                       4He         ±  \\\n",
      "Run #                                                                  \n",
      "cold blank 1                                         14.69  0.024871   \n",
      "hot blank 1                                        9.08401  0.041114   \n",
      "FU 2625 3D 1                                       7.80132  0.031398   \n",
      "FU 090-3                                           458.245  0.080322   \n",
      "FU 2625 3D 2                                       274.315  0.037726   \n",
      "...                                                    ...       ...   \n",
      "Cleaned Pt capsule blank (+127min) Sample 2088     249.677  0.044101   \n",
      "Cleaned Pt capsule blank (heated) Sample 2089      465.078  0.047418   \n",
      "lasered Pt capsule blank (30min) Sample 2101 mani      NaN       NaN   \n",
      "lasered Pt capsule blank (93min) Sample 2102 mani      NaN       NaN   \n",
      "                                                       NaN       NaN   \n",
      "\n",
      "                                                        3He       ±.1  \\\n",
      "Run #                                                                   \n",
      "cold blank 1                                       0.000028  0.000004   \n",
      "hot blank 1                                        0.000027  0.000006   \n",
      "FU 2625 3D 1                                       0.000026  0.000003   \n",
      "FU 090-3                                           0.001150  0.000034   \n",
      "FU 2625 3D 2                                       0.000259  0.000014   \n",
      "...                                                     ...       ...   \n",
      "Cleaned Pt capsule blank (+127min) Sample 2088     0.000196  0.000019   \n",
      "Cleaned Pt capsule blank (heated) Sample 2089      0.000310  0.000030   \n",
      "lasered Pt capsule blank (30min) Sample 2101 mani       NaN       NaN   \n",
      "lasered Pt capsule blank (93min) Sample 2102 mani       NaN       NaN   \n",
      "                                                        NaN       NaN   \n",
      "\n",
      "                                                        3He/4He           ±.2  \\\n",
      "Run #                                                                           \n",
      "cold blank 1                                       1.906063e-06  2.723138e-07   \n",
      "hot blank 1                                        2.972255e-06  6.606382e-07   \n",
      "FU 2625 3D 1                                       3.332768e-06  3.847840e-07   \n",
      "FU 090-3                                           2.509577e-06  7.419749e-08   \n",
      "FU 2625 3D 2                                       9.441689e-07  5.103632e-08   \n",
      "...                                                         ...           ...   \n",
      "Cleaned Pt capsule blank (+127min) Sample 2088     7.850127e-07  7.609830e-08   \n",
      "Cleaned Pt capsule blank (heated) Sample 2089      6.665555e-07  6.450541e-08   \n",
      "lasered Pt capsule blank (30min) Sample 2101 mani           NaN           NaN   \n",
      "lasered Pt capsule blank (93min) Sample 2102 mani           NaN           NaN   \n",
      "                                                            NaN           NaN   \n",
      "\n",
      "                                                   Rough R/Ra        ±.3  ...  \\\n",
      "Run #                                                                     ...   \n",
      "cold blank 1                                              NaN        NaN  ...   \n",
      "hot blank 1                                               NaN        NaN  ...   \n",
      "FU 2625 3D 1                                              NaN        NaN  ...   \n",
      "FU 090-3                                                  NaN        NaN  ...   \n",
      "FU 2625 3D 2                                              NaN        NaN  ...   \n",
      "...                                                       ...        ...  ...   \n",
      "Cleaned Pt capsule blank (+127min) Sample 2088       0.739927  0.0717278  ...   \n",
      "Cleaned Pt capsule blank (heated) Sample 2089        0.628274  0.0608007  ...   \n",
      "lasered Pt capsule blank (30min) Sample 2101 mani         NaN        NaN  ...   \n",
      "lasered Pt capsule blank (93min) Sample 2102 mani         NaN        NaN  ...   \n",
      "                                                          NaN        NaN  ...   \n",
      "\n",
      "                                                      4He.3      3He.3  \\\n",
      "Run #                                                                    \n",
      "cold blank 1                                       0.169307  13.515282   \n",
      "hot blank 1                                        0.452601  20.977706   \n",
      "FU 2625 3D 1                                       0.402464  10.784179   \n",
      "FU 090-3                                           0.017528   2.927390   \n",
      "FU 2625 3D 2                                       0.013753   5.404457   \n",
      "...                                                     ...        ...   \n",
      "Cleaned Pt capsule blank (+127min) Sample 2088     0.017663   9.632030   \n",
      "Cleaned Pt capsule blank (heated) Sample 2089      0.010196   9.755225   \n",
      "lasered Pt capsule blank (30min) Sample 2101 mani  1.509662        NaN   \n",
      "lasered Pt capsule blank (93min) Sample 2102 mani  2.130066        NaN   \n",
      "                                                        NaN        NaN   \n",
      "\n",
      "                                                      4He.4     3He.4  4He.5  \\\n",
      "Run #                                                                          \n",
      "cold blank 1                                       0.998952  0.423454   15.0   \n",
      "hot blank 1                                        0.997688  0.258861   15.0   \n",
      "FU 2625 3D 1                                       0.998521  0.429498   15.0   \n",
      "FU 090-3                                           0.999844  0.328111   15.0   \n",
      "FU 2625 3D 2                                       0.999876  0.067084   15.0   \n",
      "...                                                     ...       ...    ...   \n",
      "Cleaned Pt capsule blank (+127min) Sample 2088     0.969439  0.106582  100.0   \n",
      "Cleaned Pt capsule blank (heated) Sample 2089      0.993138  0.107606  100.0   \n",
      "lasered Pt capsule blank (30min) Sample 2101 mani  0.980063       NaN  100.0   \n",
      "lasered Pt capsule blank (93min) Sample 2102 mani  0.970889       NaN  100.0   \n",
      "                                                        NaN       NaN    NaN   \n",
      "\n",
      "                                                   3He.5  3/4  error  error%  \\\n",
      "Run #                                                                          \n",
      "cold blank 1                                        15.0  NaN    NaN     NaN   \n",
      "hot blank 1                                         15.0  NaN    NaN     NaN   \n",
      "FU 2625 3D 1                                        15.0  NaN    NaN     NaN   \n",
      "FU 090-3                                            15.0  NaN    NaN     NaN   \n",
      "FU 2625 3D 2                                        15.0  NaN    NaN     NaN   \n",
      "...                                                  ...  ...    ...     ...   \n",
      "Cleaned Pt capsule blank (+127min) Sample 2088     100.0  NaN    NaN     NaN   \n",
      "Cleaned Pt capsule blank (heated) Sample 2089      100.0  NaN    NaN     NaN   \n",
      "lasered Pt capsule blank (30min) Sample 2101 mani    NaN  NaN    NaN     NaN   \n",
      "lasered Pt capsule blank (93min) Sample 2102 mani    NaN  NaN    NaN     NaN   \n",
      "                                                     NaN  NaN    NaN     NaN   \n",
      "\n",
      "                                                   Unnamed: 25  \n",
      "Run #                                                           \n",
      "cold blank 1                                               NaN  \n",
      "hot blank 1                                                NaN  \n",
      "FU 2625 3D 1                                               NaN  \n",
      "FU 090-3                                                   NaN  \n",
      "FU 2625 3D 2                                               NaN  \n",
      "...                                                        ...  \n",
      "Cleaned Pt capsule blank (+127min) Sample 2088             NaN  \n",
      "Cleaned Pt capsule blank (heated) Sample 2089              NaN  \n",
      "lasered Pt capsule blank (30min) Sample 2101 mani          NaN  \n",
      "lasered Pt capsule blank (93min) Sample 2102 mani          NaN  \n",
      "                                                           NaN  \n",
      "\n",
      "[1527 rows x 25 columns]\n"
     ]
    }
   ],
   "source": [
    "print(df)"
   ]
  },
  {
   "cell_type": "code",
   "execution_count": 26,
   "metadata": {},
   "outputs": [
    {
     "ename": "ValueError",
     "evalue": "columns overlap but no suffix specified: Index(['Unnamed: 18'], dtype='object')",
     "output_type": "error",
     "traceback": [
      "\u001b[1;31m---------------------------------------------------------------------------\u001b[0m",
      "\u001b[1;31mValueError\u001b[0m                                Traceback (most recent call last)",
      "\u001b[1;32m<ipython-input-26-ca1a710b32df>\u001b[0m in \u001b[0;36m<module>\u001b[1;34m\u001b[0m\n\u001b[1;32m----> 1\u001b[1;33m \u001b[0mmerge1\u001b[0m \u001b[1;33m=\u001b[0m \u001b[0mquadf\u001b[0m\u001b[1;33m.\u001b[0m\u001b[0mjoin\u001b[0m\u001b[1;33m(\u001b[0m\u001b[0mhedf\u001b[0m\u001b[1;33m)\u001b[0m\u001b[1;33m\u001b[0m\u001b[1;33m\u001b[0m\u001b[0m\n\u001b[0m",
      "\u001b[1;32m~\\anaconda3\\lib\\site-packages\\pandas\\core\\frame.py\u001b[0m in \u001b[0;36mjoin\u001b[1;34m(self, other, on, how, lsuffix, rsuffix, sort)\u001b[0m\n\u001b[0;32m   7207\u001b[0m         \"\"\"\n\u001b[0;32m   7208\u001b[0m         return self._join_compat(\n\u001b[1;32m-> 7209\u001b[1;33m             \u001b[0mother\u001b[0m\u001b[1;33m,\u001b[0m \u001b[0mon\u001b[0m\u001b[1;33m=\u001b[0m\u001b[0mon\u001b[0m\u001b[1;33m,\u001b[0m \u001b[0mhow\u001b[0m\u001b[1;33m=\u001b[0m\u001b[0mhow\u001b[0m\u001b[1;33m,\u001b[0m \u001b[0mlsuffix\u001b[0m\u001b[1;33m=\u001b[0m\u001b[0mlsuffix\u001b[0m\u001b[1;33m,\u001b[0m \u001b[0mrsuffix\u001b[0m\u001b[1;33m=\u001b[0m\u001b[0mrsuffix\u001b[0m\u001b[1;33m,\u001b[0m \u001b[0msort\u001b[0m\u001b[1;33m=\u001b[0m\u001b[0msort\u001b[0m\u001b[1;33m\u001b[0m\u001b[1;33m\u001b[0m\u001b[0m\n\u001b[0m\u001b[0;32m   7210\u001b[0m         )\n\u001b[0;32m   7211\u001b[0m \u001b[1;33m\u001b[0m\u001b[0m\n",
      "\u001b[1;32m~\\anaconda3\\lib\\site-packages\\pandas\\core\\frame.py\u001b[0m in \u001b[0;36m_join_compat\u001b[1;34m(self, other, on, how, lsuffix, rsuffix, sort)\u001b[0m\n\u001b[0;32m   7230\u001b[0m                 \u001b[0mright_index\u001b[0m\u001b[1;33m=\u001b[0m\u001b[1;32mTrue\u001b[0m\u001b[1;33m,\u001b[0m\u001b[1;33m\u001b[0m\u001b[1;33m\u001b[0m\u001b[0m\n\u001b[0;32m   7231\u001b[0m                 \u001b[0msuffixes\u001b[0m\u001b[1;33m=\u001b[0m\u001b[1;33m(\u001b[0m\u001b[0mlsuffix\u001b[0m\u001b[1;33m,\u001b[0m \u001b[0mrsuffix\u001b[0m\u001b[1;33m)\u001b[0m\u001b[1;33m,\u001b[0m\u001b[1;33m\u001b[0m\u001b[1;33m\u001b[0m\u001b[0m\n\u001b[1;32m-> 7232\u001b[1;33m                 \u001b[0msort\u001b[0m\u001b[1;33m=\u001b[0m\u001b[0msort\u001b[0m\u001b[1;33m,\u001b[0m\u001b[1;33m\u001b[0m\u001b[1;33m\u001b[0m\u001b[0m\n\u001b[0m\u001b[0;32m   7233\u001b[0m             )\n\u001b[0;32m   7234\u001b[0m         \u001b[1;32melse\u001b[0m\u001b[1;33m:\u001b[0m\u001b[1;33m\u001b[0m\u001b[1;33m\u001b[0m\u001b[0m\n",
      "\u001b[1;32m~\\anaconda3\\lib\\site-packages\\pandas\\core\\reshape\\merge.py\u001b[0m in \u001b[0;36mmerge\u001b[1;34m(left, right, how, on, left_on, right_on, left_index, right_index, sort, suffixes, copy, indicator, validate)\u001b[0m\n\u001b[0;32m     86\u001b[0m         \u001b[0mvalidate\u001b[0m\u001b[1;33m=\u001b[0m\u001b[0mvalidate\u001b[0m\u001b[1;33m,\u001b[0m\u001b[1;33m\u001b[0m\u001b[1;33m\u001b[0m\u001b[0m\n\u001b[0;32m     87\u001b[0m     )\n\u001b[1;32m---> 88\u001b[1;33m     \u001b[1;32mreturn\u001b[0m \u001b[0mop\u001b[0m\u001b[1;33m.\u001b[0m\u001b[0mget_result\u001b[0m\u001b[1;33m(\u001b[0m\u001b[1;33m)\u001b[0m\u001b[1;33m\u001b[0m\u001b[1;33m\u001b[0m\u001b[0m\n\u001b[0m\u001b[0;32m     89\u001b[0m \u001b[1;33m\u001b[0m\u001b[0m\n\u001b[0;32m     90\u001b[0m \u001b[1;33m\u001b[0m\u001b[0m\n",
      "\u001b[1;32m~\\anaconda3\\lib\\site-packages\\pandas\\core\\reshape\\merge.py\u001b[0m in \u001b[0;36mget_result\u001b[1;34m(self)\u001b[0m\n\u001b[0;32m    647\u001b[0m \u001b[1;33m\u001b[0m\u001b[0m\n\u001b[0;32m    648\u001b[0m         llabels, rlabels = _items_overlap_with_suffix(\n\u001b[1;32m--> 649\u001b[1;33m             \u001b[0mldata\u001b[0m\u001b[1;33m.\u001b[0m\u001b[0mitems\u001b[0m\u001b[1;33m,\u001b[0m \u001b[0mlsuf\u001b[0m\u001b[1;33m,\u001b[0m \u001b[0mrdata\u001b[0m\u001b[1;33m.\u001b[0m\u001b[0mitems\u001b[0m\u001b[1;33m,\u001b[0m \u001b[0mrsuf\u001b[0m\u001b[1;33m\u001b[0m\u001b[1;33m\u001b[0m\u001b[0m\n\u001b[0m\u001b[0;32m    650\u001b[0m         )\n\u001b[0;32m    651\u001b[0m \u001b[1;33m\u001b[0m\u001b[0m\n",
      "\u001b[1;32m~\\anaconda3\\lib\\site-packages\\pandas\\core\\reshape\\merge.py\u001b[0m in \u001b[0;36m_items_overlap_with_suffix\u001b[1;34m(left, lsuffix, right, rsuffix)\u001b[0m\n\u001b[0;32m   2024\u001b[0m         raise ValueError(\n\u001b[0;32m   2025\u001b[0m             \u001b[1;34m\"columns overlap but no suffix specified: \"\u001b[0m\u001b[1;33m\u001b[0m\u001b[1;33m\u001b[0m\u001b[0m\n\u001b[1;32m-> 2026\u001b[1;33m             \u001b[1;34m\"{rename}\"\u001b[0m\u001b[1;33m.\u001b[0m\u001b[0mformat\u001b[0m\u001b[1;33m(\u001b[0m\u001b[0mrename\u001b[0m\u001b[1;33m=\u001b[0m\u001b[0mto_rename\u001b[0m\u001b[1;33m)\u001b[0m\u001b[1;33m\u001b[0m\u001b[1;33m\u001b[0m\u001b[0m\n\u001b[0m\u001b[0;32m   2027\u001b[0m         )\n\u001b[0;32m   2028\u001b[0m \u001b[1;33m\u001b[0m\u001b[0m\n",
      "\u001b[1;31mValueError\u001b[0m: columns overlap but no suffix specified: Index(['Unnamed: 18'], dtype='object')"
     ]
    }
   ],
   "source": [
    "merge1 = quadf.join(hedf)"
   ]
  },
  {
   "cell_type": "code",
   "execution_count": 24,
   "metadata": {},
   "outputs": [
    {
     "ename": "NameError",
     "evalue": "name 'merge1' is not defined",
     "output_type": "error",
     "traceback": [
      "\u001b[1;31m---------------------------------------------------------------------------\u001b[0m",
      "\u001b[1;31mNameError\u001b[0m                                 Traceback (most recent call last)",
      "\u001b[1;32m<ipython-input-24-36e785928c67>\u001b[0m in \u001b[0;36m<module>\u001b[1;34m\u001b[0m\n\u001b[1;32m----> 1\u001b[1;33m \u001b[0mmerge2\u001b[0m \u001b[1;33m=\u001b[0m \u001b[0mmerge1\u001b[0m\u001b[1;33m.\u001b[0m\u001b[0mjoin\u001b[0m\u001b[1;33m(\u001b[0m\u001b[0mnedf\u001b[0m\u001b[1;33m)\u001b[0m\u001b[1;33m\u001b[0m\u001b[1;33m\u001b[0m\u001b[0m\n\u001b[0m",
      "\u001b[1;31mNameError\u001b[0m: name 'merge1' is not defined"
     ]
    }
   ],
   "source": [
    "merge2 = merge1.join(nedf)"
   ]
  },
  {
   "cell_type": "code",
   "execution_count": 25,
   "metadata": {},
   "outputs": [
    {
     "ename": "NameError",
     "evalue": "name 'merge2' is not defined",
     "output_type": "error",
     "traceback": [
      "\u001b[1;31m---------------------------------------------------------------------------\u001b[0m",
      "\u001b[1;31mNameError\u001b[0m                                 Traceback (most recent call last)",
      "\u001b[1;32m<ipython-input-25-eb3935402a6c>\u001b[0m in \u001b[0;36m<module>\u001b[1;34m\u001b[0m\n\u001b[1;32m----> 1\u001b[1;33m \u001b[0mmerge3\u001b[0m \u001b[1;33m=\u001b[0m \u001b[0mmerge2\u001b[0m\u001b[1;33m.\u001b[0m\u001b[0mjoin\u001b[0m\u001b[1;33m(\u001b[0m\u001b[0mardf\u001b[0m\u001b[1;33m)\u001b[0m\u001b[1;33m\u001b[0m\u001b[1;33m\u001b[0m\u001b[0m\n\u001b[0m",
      "\u001b[1;31mNameError\u001b[0m: name 'merge2' is not defined"
     ]
    }
   ],
   "source": [
    "merge3 = merge2.join(ardf)"
   ]
  },
  {
   "cell_type": "code",
   "execution_count": 223,
   "metadata": {},
   "outputs": [],
   "source": [
    "def print_into_excel1(dtp):\n",
    "\n",
    "\n",
    "        book = load_workbook(r\"C:\\Users\\eart0477\\Pycharm projects\\data_process\\csvfiles\\From the lab\\December 2020 ophiolites\\test.xlsx\")\n",
    "        writer = pd.ExcelWriter(r\"C:\\Users\\eart0477\\Pycharm projects\\data_process\\csvfiles\\From the lab\\December 2020 ophiolites\\test.xlsx\", engine='openpyxl')\n",
    "        writer.book = book\n",
    "        writer.sheets = {ws.title: ws for ws in book.worksheets}\n",
    "\n",
    "        for sheetname in writer.sheets:\n",
    "            dtp.to_excel(writer, sheet_name=sheetname, startrow=writer.sheets[sheetname].max_row, index=True,\n",
    "                         header=True)\n",
    "        writer.save()\n",
    "\n",
    "        return\n",
    "print_into_excel1(merge3)"
   ]
  },
  {
   "cell_type": "code",
   "execution_count": 224,
   "metadata": {},
   "outputs": [],
   "source": [
    "# methane henry k atm/kg mol Temp. range = 273.15—328.15 H. L. Clever and C. L. Young, Eds., IUPAC Solubility Data Series, Vol.27/28, Methane, Pergamon Press, Oxford, England, 1987.\n",
    "def calc_methane_k(t):\n",
    "    ch4_k = 1/np.exp(-115.6477 + 155.5756/(0.01*t) + 65.2553 * np.log(0.01*t) - (6.1698*t*0.01) ) / 55.56\n",
    "    return ch4_k\n"
   ]
  },
  {
   "cell_type": "code",
   "execution_count": 229,
   "metadata": {},
   "outputs": [
    {
     "data": {
      "text/plain": [
       "715.9223855349917"
      ]
     },
     "execution_count": 229,
     "metadata": {},
     "output_type": "execute_result"
    }
   ],
   "source": [
    "calc_methane_k(299)"
   ]
  },
  {
   "cell_type": "code",
   "execution_count": null,
   "metadata": {},
   "outputs": [],
   "source": []
  }
 ],
 "metadata": {
  "kernelspec": {
   "display_name": "Python 3",
   "language": "python",
   "name": "python3"
  },
  "language_info": {
   "codemirror_mode": {
    "name": "ipython",
    "version": 3
   },
   "file_extension": ".py",
   "mimetype": "text/x-python",
   "name": "python",
   "nbconvert_exporter": "python",
   "pygments_lexer": "ipython3",
   "version": "3.7.7"
  }
 },
 "nbformat": 4,
 "nbformat_minor": 4
}
