{
 "cells": [
  {
   "cell_type": "code",
   "execution_count": 25,
   "metadata": {},
   "outputs": [],
   "source": [
    "from openpyxl import load_workbook\n",
    "\n",
    "import numpy as np\n",
    "\n",
    "import csv\n",
    "from scipy import stats\n",
    "import pandas as pd\n",
    "import seaborn as sns\n",
    "import plotly.express as px\n",
    "\n",
    "import matplotlib.pyplot as plt\n",
    "import matplotlib\n",
    "\n"
   ]
  },
  {
   "cell_type": "code",
   "execution_count": 26,
   "metadata": {},
   "outputs": [],
   "source": [
    "def print_into_excel(dtp):\n",
    "\n",
    "\n",
    "        book = load_workbook(r\"C:\\Users\\eart0477\\Pycharm projects\\data_process\\csvfiles\\mini ruedi\\export.xlsx\")\n",
    "        writer = pd.ExcelWriter(r\"C:\\Users\\eart0477\\Pycharm projects\\data_process\\csvfiles\\mini ruedi\\export.xlsx\", engine='openpyxl')\n",
    "        writer.book = book\n",
    "        writer.sheets = {ws.title: ws for ws in book.worksheets}\n",
    "\n",
    "        for sheetname in writer.sheets:\n",
    "            dtp.to_excel(writer, sheet_name=sheetname, startrow=writer.sheets[sheetname].max_row, index=True,\n",
    "                         header=True)\n",
    "        writer.save()\n",
    "\n",
    "        return\n",
    "\n"
   ]
  },
  {
   "cell_type": "code",
   "execution_count": 27,
   "metadata": {},
   "outputs": [],
   "source": [
    "qt = pd.read_excel(r\"C:\\Users\\eart0477\\Pycharm projects\\data_process\\csvfiles\\From the lab\\Feb 2022 qtegra exports\\KrXe Sample Dec2020 plus Sept 2021 combo.xlsx\" , header=0, index_col=0, sheet_name=0, mangle_dupe_cols=True)\n"
   ]
  },
  {
   "cell_type": "code",
   "execution_count": 4,
   "metadata": {},
   "outputs": [],
   "source": []
  },
  {
   "cell_type": "code",
   "execution_count": 28,
   "metadata": {},
   "outputs": [],
   "source": [
    "column_names = {'Extrapolation.ResultMean': '136Xe_h1', \n",
    "                'Extrapolation.ResultMean.1': '132Xe_ax',\n",
    "                'Extrapolation.ResultMean.2': '129Xe_l1',\n",
    "                'Extrapolation.ResultMean.4': '134Xe_l1',\n",
    "                'Extrapolation.ResultMean.5': '130Xe_l2',\n",
    "                'Extrapolation.ResultMean.7': '131Xe_l1',\n",
    "                'Extrapolation.ResultMean.8': '128Xe_l2',\n",
    "                'Extrapolation.ResultMean.9': '124Xe_cdd',\n",
    "                'Extrapolation.ResultMean.11': '126Xe_cdd',\n",
    "                \n",
    "                'Extrapolation.ResultMean.12': '86Kr_h2', \n",
    "                'Extrapolation.ResultMean.13': '84Kr_ax',\n",
    "                'Extrapolation.ResultMean.14': '82Kr_ax',\n",
    "                'Extrapolation.ResultMean.15': '83Kr_ax',\n",
    "                'Extrapolation.ResultMean.16': '78Kr_ax',\n",
    "                'Extrapolation.ResultMean.17': '84Kr_h2',\n",
    "                'Extrapolation.ResultMean.18': '80Kr_ax',\n",
    "                'Extrapolation.ResultMean.19': '78Kr_l1',\n",
    "                'Extrapolation.ResultMean.20': '80Kr_ax',       \n",
    "                \n",
    "                \n",
    "                'Extrapolation.ResultStandardError': '136Xe_h1_err', \n",
    "                'Extrapolation.ResultStandardError.1': '132Xe_ax_err',\n",
    "                'Extrapolation.ResultStandardError.2': '129Xe_l1_err',\n",
    "                'Extrapolation.ResultStandardError.4': '134Xe_l1_err',\n",
    "                'Extrapolation.ResultStandardError.5': '130Xe_l2_err',\n",
    "                'Extrapolation.ResultStandardError.7': '131Xe_l1_err',\n",
    "                'Extrapolation.ResultStandardError.8': '128Xe_l2_err',\n",
    "                'Extrapolation.ResultStandardError.9': '124Xe_cdd_err',\n",
    "                'Extrapolation.ResultStandardError.11': '126Xe_cdd_err',\n",
    "              \n",
    "                \n",
    "                'Extrapolation.ResultStandardError.12': '86Kr_h2_err', \n",
    "                'Extrapolation.ResultStandardError.13': '84Kr_ax_err',\n",
    "                'Extrapolation.ResultStandardError.14': '82Kr_ax_err',\n",
    "                'Extrapolation.ResultStandardError.15': '83Kr_ax_err',\n",
    "                'Extrapolation.ResultStandardError.16': '78Kr_ax_err',\n",
    "                'Extrapolation.ResultStandardError.17': '84Kr_h2_err',\n",
    "                'Extrapolation.ResultStandardError.18': '80Kr_ax_err',\n",
    "                'Extrapolation.ResultStandardError.19': '78Kr_l1_err',\n",
    "                'Extrapolation.ResultStandardError.20': '80Kr_ax_err',\n",
    "\n",
    "                     }\n",
    "\n"
   ]
  },
  {
   "cell_type": "code",
   "execution_count": 29,
   "metadata": {},
   "outputs": [],
   "source": [
    "qt2 = qt.rename(column_names, axis='columns')\n",
    "qt2 =qt2[qt2['StartTime'].notna()]"
   ]
  },
  {
   "cell_type": "code",
   "execution_count": 30,
   "metadata": {},
   "outputs": [],
   "source": [
    "columns_to_print = [ 'SampleList.1', 'StartTime', 'NGWorkflowOnArgusVIWithPrep',\n",
    "\n",
    "                  '136Xe_h1', \n",
    "                 '132Xe_ax',\n",
    "                 '129Xe_l1',\n",
    "                 '134Xe_l1',\n",
    "                '130Xe_l2',\n",
    "               '131Xe_l1',\n",
    "                 '128Xe_l2',\n",
    "              '124Xe_cdd',\n",
    "                '126Xe_cdd',\n",
    "                \n",
    "               '86Kr_h2', \n",
    "                 '84Kr_ax',\n",
    "              '82Kr_ax',\n",
    "               '83Kr_ax',\n",
    "                '78Kr_ax',\n",
    "        '84Kr_h2',\n",
    "                '80Kr_ax',\n",
    "                '78Kr_l1',\n",
    "                '80Kr_ax',       \n",
    "                \n",
    "                \n",
    "                 '136Xe_h1_err', \n",
    "                '132Xe_ax_err',\n",
    "                '129Xe_l1_err',\n",
    "                 '134Xe_l1_err',\n",
    "                '130Xe_l2_err',\n",
    "                '131Xe_l1_err',\n",
    "             '128Xe_l2_err',\n",
    "                '124Xe_cdd_err',\n",
    "                '126Xe_cdd_err',\n",
    "              \n",
    "                \n",
    "                '86Kr_h2_err', \n",
    "               '84Kr_ax_err',\n",
    "               '82Kr_ax_err',\n",
    "           '83Kr_ax_err',\n",
    "               '78Kr_ax_err',\n",
    "          '84Kr_h2_err',\n",
    "                '80Kr_ax_err',\n",
    "               '78Kr_l1_err',\n",
    "             '80Kr_ax_err',\n",
    "\n",
    "                                       ]\n"
   ]
  },
  {
   "cell_type": "code",
   "execution_count": 31,
   "metadata": {},
   "outputs": [],
   "source": [
    "qt3 = qt2.loc[:, qt2.columns.isin(columns_to_print)]"
   ]
  },
  {
   "cell_type": "code",
   "execution_count": 32,
   "metadata": {},
   "outputs": [],
   "source": [
    "# do you want to sort the output by sample type (proc air, blank, sample?)\n",
    "sort_by = True\n"
   ]
  },
  {
   "cell_type": "code",
   "execution_count": 11,
   "metadata": {},
   "outputs": [
    {
     "name": "stdout",
     "output_type": "stream",
     "text": [
      "                         SampleList.1               StartTime  \\\n",
      "SampleList                                                      \n",
      "1            Proc Blank 1 Sample 1536 2020-12-06 13:44:02.731   \n",
      "2           Tohonalda 35b Sample 1537 2020-12-06 18:19:41.022   \n",
      "3                WM 33-24 Sample 1539 2020-12-07 15:51:32.780   \n",
      "4                PW4 (GW) Sample 1540 2020-12-07 22:05:25.519   \n",
      "5            Proc Air 230 Sample 1542 2020-12-08 13:29:41.072   \n",
      "...                               ...                     ...   \n",
      "260                   MV2 Sample 2196 2022-02-03 00:47:48.754   \n",
      "261             MV2 Sample 2197 rerun 2022-02-03 15:47:07.482   \n",
      "262         Crater Hill 2 Sample 2198 2022-02-05 01:19:01.925   \n",
      "263         Crater Hill 2 Sample 2199 2022-02-06 00:35:40.999   \n",
      "264          Proc Air 331 Sample 2200 2022-02-07 00:30:10.481   \n",
      "\n",
      "           NGWorkflowOnArgusVIWithPrep  136Xe_h1 132Xe_ax 129Xe_l1  134Xe_l1  \\\n",
      "SampleList                                                                     \n",
      "1                  KrXe_AllGas_15May18  0.794908    2.411  2.27746  0.894934   \n",
      "2                  KrXe_AllGas_15May18   1833.45  5588.53   5453.9   2148.86   \n",
      "3                  KrXe_AllGas_15May18    314.33  948.015   919.21   366.096   \n",
      "4                  KrXe_AllGas_15May18   5602.92  16984.4  16488.9   6537.41   \n",
      "5                  KrXe_AllGas_15May18   69.1822  209.452  203.561   80.7954   \n",
      "...                                ...       ...      ...      ...       ...   \n",
      "260              KrXe_Manifold_15May18   1502.43  4456.73  4286.53   1715.78   \n",
      "261                KrXe_AllGas_15May18   1014.84  3074.26  2988.88   1179.76   \n",
      "262                KrXe_AllGas_15May18   16.7651  50.8027  49.5603   19.4846   \n",
      "263                KrXe_AllGas_15May18   31.3968  95.0684  92.6551   36.4328   \n",
      "264                KrXe_AllGas_15May18   2140.54   6464.3  6266.06   2484.35   \n",
      "\n",
      "            130Xe_l2 131Xe_l1  128Xe_l2  ... 126Xe_cdd_err 86Kr_h2_err  \\\n",
      "SampleList                               ...                             \n",
      "1           0.416699  1.83335  0.174504  ...   0.000209455    0.442779   \n",
      "2            837.373  4384.37   392.956  ...      0.038042     52.1752   \n",
      "3            141.168   742.62   66.0804  ...    0.00961152     7.53868   \n",
      "4            2539.29  13300.7   1187.68  ...      0.104615      60.903   \n",
      "5            31.2181  164.728   14.6791  ...    0.00300124     1.57579   \n",
      "...              ...      ...       ...  ...           ...         ...   \n",
      "260          640.992  3413.91   304.461  ...     0.0106778      22.184   \n",
      "261          455.299  2401.96    214.51  ...     0.0135599       20.42   \n",
      "262          7.51437  39.8623   3.53079  ...   0.000914936    0.108729   \n",
      "263          14.0812  74.3406   6.60143  ...    0.00125118    0.480782   \n",
      "264          955.921   5045.2   449.632  ...     0.0232317     37.3228   \n",
      "\n",
      "           84Kr_ax_err 82Kr_ax_err 83Kr_ax_err 78Kr_ax_err 84Kr_h2_err  \\\n",
      "SampleList                                                               \n",
      "1              1.52954    0.309351    0.296745   0.0154104     1.53546   \n",
      "2            0.0260179      31.369     34.6366       1.011     157.362   \n",
      "3              20.7736      4.2706     4.92535    0.147364     22.1013   \n",
      "4            0.0264069     34.3314     39.0829     1.01583     174.025   \n",
      "5              3.73249    0.754202     1.03815   0.0346297     3.74706   \n",
      "...                ...         ...         ...         ...         ...   \n",
      "260          0.0193176     16.3425     16.4572    0.395242      216.77   \n",
      "261             485.59     11.7431     12.8717    0.382829      159.27   \n",
      "262           0.156591   0.0359895   0.0547791   0.0203661    0.137349   \n",
      "263            1.30001    0.263044    0.300772   0.0214291     2.12979   \n",
      "264          0.0197611     21.6396     23.8964    0.664101     304.814   \n",
      "\n",
      "           80Kr_ax_err 78Kr_l1_err 80Kr_ax_err  \n",
      "SampleList                                      \n",
      "1            0.0567369    0.014478    0.063894  \n",
      "2              6.46439    0.951254     6.47005  \n",
      "3             0.968192       0.159    0.901397  \n",
      "4              6.83273    0.995041     6.83656  \n",
      "5             0.167919   0.0527411    0.150634  \n",
      "...                ...         ...         ...  \n",
      "260             2.6209    0.394498     2.69691  \n",
      "261            2.45729    0.377979     2.45452  \n",
      "262          0.0192621   0.0252866   0.0262946  \n",
      "263          0.0601519   0.0313276     0.06322  \n",
      "264            4.36443    0.703496      4.2992  \n",
      "\n",
      "[264 rows x 39 columns]\n"
     ]
    }
   ],
   "source": [
    "print(qt3)"
   ]
  },
  {
   "cell_type": "code",
   "execution_count": 34,
   "metadata": {},
   "outputs": [
    {
     "name": "stderr",
     "output_type": "stream",
     "text": [
      "C:\\Users\\eart0477\\anaconda3\\lib\\site-packages\\ipykernel_launcher.py:5: SettingWithCopyWarning: \n",
      "A value is trying to be set on a copy of a slice from a DataFrame.\n",
      "Try using .loc[row_indexer,col_indexer] = value instead\n",
      "\n",
      "See the caveats in the documentation: https://pandas.pydata.org/pandas-docs/stable/user_guide/indexing.html#returning-a-view-versus-a-copy\n",
      "  \"\"\"\n",
      "C:\\Users\\eart0477\\anaconda3\\lib\\site-packages\\ipykernel_launcher.py:7: SettingWithCopyWarning: \n",
      "A value is trying to be set on a copy of a slice from a DataFrame.\n",
      "Try using .loc[row_indexer,col_indexer] = value instead\n",
      "\n",
      "See the caveats in the documentation: https://pandas.pydata.org/pandas-docs/stable/user_guide/indexing.html#returning-a-view-versus-a-copy\n",
      "  import sys\n"
     ]
    }
   ],
   "source": [
    "\n",
    "row_start = 1\n",
    "row_end = 326\n",
    "\n",
    "f = qt3.iloc[row_start:row_end]\n",
    "f['Sample_copy'] = f.index\n",
    "\n",
    "f['Sample_type'] = np.nan\n",
    "#f['Vol'] = np.nan\n",
    "#f['Split'] = np.nan\n",
    "\n",
    "# specify keywords we will be looking for to classify data\n",
    "keywords_proc_air = ('proc air', 'Proc Air', 'Proc_air', 'Proc_Air', 'Proc air', 'proc Air', )\n",
    "keywords_blank = ('blank', 'Blank')\n",
    "keywords_asw = ('ASW', 'asw')\n",
    "\n",
    "#\n"
   ]
  },
  {
   "cell_type": "code",
   "execution_count": 35,
   "metadata": {},
   "outputs": [
    {
     "name": "stderr",
     "output_type": "stream",
     "text": [
      "C:\\Users\\eart0477\\anaconda3\\lib\\site-packages\\ipykernel_launcher.py:11: SettingWithCopyWarning: \n",
      "A value is trying to be set on a copy of a slice from a DataFrame\n",
      "\n",
      "See the caveats in the documentation: https://pandas.pydata.org/pandas-docs/stable/user_guide/indexing.html#returning-a-view-versus-a-copy\n",
      "  # This is added back by InteractiveShellApp.init_path()\n",
      "C:\\Users\\eart0477\\anaconda3\\lib\\site-packages\\ipykernel_launcher.py:7: SettingWithCopyWarning: \n",
      "A value is trying to be set on a copy of a slice from a DataFrame\n",
      "\n",
      "See the caveats in the documentation: https://pandas.pydata.org/pandas-docs/stable/user_guide/indexing.html#returning-a-view-versus-a-copy\n",
      "  import sys\n",
      "C:\\Users\\eart0477\\anaconda3\\lib\\site-packages\\ipykernel_launcher.py:15: SettingWithCopyWarning: \n",
      "A value is trying to be set on a copy of a slice from a DataFrame\n",
      "\n",
      "See the caveats in the documentation: https://pandas.pydata.org/pandas-docs/stable/user_guide/indexing.html#returning-a-view-versus-a-copy\n",
      "  from ipykernel import kernelapp as app\n",
      "C:\\Users\\eart0477\\anaconda3\\lib\\site-packages\\ipykernel_launcher.py:19: SettingWithCopyWarning: \n",
      "A value is trying to be set on a copy of a slice from a DataFrame\n",
      "\n",
      "See the caveats in the documentation: https://pandas.pydata.org/pandas-docs/stable/user_guide/indexing.html#returning-a-view-versus-a-copy\n"
     ]
    }
   ],
   "source": [
    "#this part filters the rows based on sample type (proc air, proc blank, sample, ASW) so they are exported together by type \n",
    "#for easier processing, can skip this cell if don't want to sort\n",
    "\n",
    "for index, row in f.iterrows():\n",
    "    if any(s in row['SampleList.1'] for s in keywords_proc_air) == True:\n",
    "      \n",
    "        f['Sample_type'].loc[index] = 'Proc_air'\n",
    "    #if any(s in row['SampleList.1'] for s in keywords_blank) == True:\n",
    "       # f['Sample_type'].loc[index] = 'Proc_blank'\n",
    "    else:\n",
    "        f['Sample_type'].loc[index] = 'Sample'\n",
    "        \n",
    "for index, row in f.iterrows():        \n",
    "    if any(s in row['SampleList.1'] for s in keywords_blank) == True:\n",
    "        f['Sample_type'].loc[index] = 'Proc_blank'\n",
    "\n",
    "for index, row in f.iterrows():        \n",
    "    if any(s in row['SampleList.1'] for s in keywords_asw) == True:\n",
    "        f['Sample_type'].loc[index] = 'ASW'        \n",
    "\n",
    "f = f.sort_values(by=['Sample_type', 'StartTime'], axis=0, )\n",
    "  \n"
   ]
  },
  {
   "cell_type": "code",
   "execution_count": 36,
   "metadata": {},
   "outputs": [
    {
     "name": "stdout",
     "output_type": "stream",
     "text": [
      "SampleList\n",
      "2     NaN\n",
      "3     NaN\n",
      "4     NaN\n",
      "5     NaN\n",
      "6     NaN\n",
      "       ..\n",
      "260   NaN\n",
      "261   NaN\n",
      "262   NaN\n",
      "263   NaN\n",
      "264   NaN\n",
      "Name: Sample_type, Length: 263, dtype: float64\n"
     ]
    }
   ],
   "source": [
    "print(f['Sample_type'])"
   ]
  },
  {
   "cell_type": "code",
   "execution_count": 18,
   "metadata": {},
   "outputs": [
    {
     "name": "stdout",
     "output_type": "stream",
     "text": [
      "SampleList\n",
      "2      Tohonalda 35b Sample 1537\n",
      "3           WM 33-24 Sample 1539\n",
      "4           PW4 (GW) Sample 1540\n",
      "5       Proc Air 230 Sample 1542\n",
      "6            ASW 104 Sample 1543\n",
      "                 ...            \n",
      "260              MV2 Sample 2196\n",
      "261        MV2 Sample 2197 rerun\n",
      "262    Crater Hill 2 Sample 2198\n",
      "263    Crater Hill 2 Sample 2199\n",
      "264     Proc Air 331 Sample 2200\n",
      "Name: SampleList.1, Length: 263, dtype: object\n"
     ]
    }
   ],
   "source": [
    "print(f['SampleList.1'])"
   ]
  },
  {
   "cell_type": "code",
   "execution_count": 37,
   "metadata": {},
   "outputs": [],
   "source": [
    "print_into_excel(f)\n"
   ]
  },
  {
   "cell_type": "code",
   "execution_count": null,
   "metadata": {},
   "outputs": [],
   "source": []
  }
 ],
 "metadata": {
  "kernelspec": {
   "display_name": "Python 3",
   "language": "python",
   "name": "python3"
  },
  "language_info": {
   "codemirror_mode": {
    "name": "ipython",
    "version": 3
   },
   "file_extension": ".py",
   "mimetype": "text/x-python",
   "name": "python",
   "nbconvert_exporter": "python",
   "pygments_lexer": "ipython3",
   "version": "3.7.7"
  }
 },
 "nbformat": 4,
 "nbformat_minor": 4
}
